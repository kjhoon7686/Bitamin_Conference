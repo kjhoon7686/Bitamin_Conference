{
 "cells": [
  {
   "cell_type": "code",
   "execution_count": null,
   "metadata": {},
   "outputs": [],
   "source": [
    "import pandas as pd\n",
    "import numpy as np\n",
    "import matplotlib.pyplot as plt\n",
    "import seaborn as sns\n",
    "from tqdm import tqdm\n",
    "import re\n",
    "from sklearn.metrics.pairwise import cosine_similarity\n",
    "import ast\n",
    "import os\n",
    "from sklearn.preprocessing import MinMaxScaler\n",
    "import pickle\n",
    "import datetime\n",
    "import warnings\n",
    "warnings.filterwarnings('ignore')"
   ]
  },
  {
   "cell_type": "code",
   "execution_count": null,
   "metadata": {},
   "outputs": [],
   "source": [
    "ratings = pd.read_csv('./RAW_interactions_01') #레시피 만든 사람이 작성한 리뷰 제거된 파일\n",
    "recipes = pd.read_csv('./RAW_recipes.csv')"
   ]
  },
  {
   "cell_type": "code",
   "execution_count": null,
   "metadata": {},
   "outputs": [],
   "source": [
    "# Loading previously generated mappers\n",
    "with open('./i2r_map.pkl', 'rb') as f:\n",
    "    i2r_map =  pickle.load(f)\n",
    "\n",
    "with open('./r2i_map.pkl', 'rb') as f:\n",
    "    r2i_map =  pickle.load(f)\n",
    "\n",
    "with open('./i2id_map.pkl', 'rb') as f:\n",
    "    i2id_map =  pickle.load(f)\n",
    "\n",
    "with open('./id2r_map.pkl', 'rb') as f:\n",
    "    id2r_map =  pickle.load(f)\n",
    "    \n",
    "with open('./r2min_map.pkl', 'rb') as f:\n",
    "    r2min_map =  pickle.load(f)"
   ]
  },
  {
   "cell_type": "markdown",
   "metadata": {},
   "source": [
    "### 전처리"
   ]
  },
  {
   "cell_type": "code",
   "execution_count": null,
   "metadata": {},
   "outputs": [],
   "source": [
    "# 필요한 컬럼만 추출\n",
    "recipes = recipes[['id', 'name', 'minutes', 'ingredients', 'description', 'tags',  'steps', 'nutrition']]\n",
    "recipes.rename(columns={'id': 'recipe_id'}, inplace=True)\n",
    "# name 결측치 제거\n",
    "recipes.dropna(axis=0, subset=['name'], inplace=True)"
   ]
  },
  {
   "cell_type": "code",
   "execution_count": null,
   "metadata": {},
   "outputs": [],
   "source": [
    "#제조시간 0분 초과~1일 이하의 데이터만 저장\n",
    "recipes = recipes[(0 < recipes['minutes']) & (recipes['minutes'] <= 1440)]"
   ]
  },
  {
   "cell_type": "code",
   "execution_count": null,
   "metadata": {},
   "outputs": [],
   "source": [
    "#영양소 분리\n",
    "recipes[['calories','total fat (PDV)','sugar (PDV)','sodium (PDV)','protein (PDV)','saturated fat (PDV)','carbohydrates (PDV)']] = recipes.nutrition.str.split(\",\",expand=True) \n",
    "recipes['calories'] =  recipes['calories'].apply(lambda x: x.replace('[',''))\n",
    "recipes['carbohydrates (PDV)'] =  recipes['carbohydrates (PDV)'].apply(lambda x: x.replace(']','')) \n",
    "recipes[['calories','total fat (PDV)','sugar (PDV)','sodium (PDV)','protein (PDV)','saturated fat (PDV)','carbohydrates (PDV)']] = recipes[['calories','total fat (PDV)','sugar (PDV)','sodium (PDV)','protein (PDV)','saturated fat (PDV)','carbohydrates (PDV)']].astype('float')"
   ]
  },
  {
   "cell_type": "code",
   "execution_count": null,
   "metadata": {},
   "outputs": [],
   "source": [
    "#날짜 데이터 삭제\n",
    "ratings = ratings.drop('date', axis=1)\n",
    "ratings.head()"
   ]
  },
  {
   "cell_type": "code",
   "execution_count": null,
   "metadata": {},
   "outputs": [],
   "source": [
    "print(recipes.shape, ratings.shape)"
   ]
  },
  {
   "cell_type": "code",
   "execution_count": null,
   "metadata": {},
   "outputs": [],
   "source": [
    "# ingredients 컬럼 리스트 형태로 변경\n",
    "from ast import literal_eval\n",
    "recipes['ingredients'] = recipes['ingredients'].apply(literal_eval)"
   ]
  },
  {
   "cell_type": "code",
   "execution_count": null,
   "metadata": {},
   "outputs": [],
   "source": [
    "recipes['steps'] = recipes['steps'].apply(literal_eval)"
   ]
  },
  {
   "cell_type": "code",
   "execution_count": null,
   "metadata": {},
   "outputs": [],
   "source": [
    "raw_recipes_rind=recipes.copy().set_index('recipe_id')\n",
    "# 재료 리스트를 재료 번호로 반환\n",
    "# ingredient_list_string=[가지고 있는 재료]\n",
    "def parseIngredientList(ingredient_list_string):\n",
    "    ingredient_list_id=[]\n",
    "    for i in ingredient_list_string:\n",
    "        ingredient_list_id.append(i2id_map[i])\n",
    "    return ingredient_list_id\n",
    "\n",
    "\n",
    "# 현재 가지고 있는 재료 중 하나 이상 포함되는 레시피 번호로 반환\n",
    "def getRecipes(ingredient_list_id):\n",
    "    output_data = {} # key = recipe id, value = {'i_req': set(),'i_avail': set(),'i_needed': set(), 'time_req':r2min_map[r]}\n",
    "    \n",
    "    for i in ingredient_list_id:\n",
    "        recipes = i2r_map[i] # Retrieve recipes containing this ingredient\n",
    "        for r in recipes:\n",
    "            if r in output_data.keys():\n",
    "                output_data[r]['i_avail'] = output_data[r]['i_avail'].union({i})\n",
    "            else:\n",
    "                output_data[r] = {'i_req': r2i_map[r],'i_avail': {i}, 'time_req':r2min_map[r]}\n",
    "    \n",
    "    for r in output_data.keys():\n",
    "        output_data[r]['i_needed'] = output_data[r]['i_req'].difference(output_data[r]['i_avail'])\n",
    "    \n",
    "    return output_data\n",
    "\n",
    "\n",
    "# 레시피 번호, 레시피명, 조리 시간, 가지고 있는 재료 수, 필요한 재료 수 반환\n",
    "def getRecipeData(r_id,output_data):\n",
    "    recipe_data_list = []\n",
    "    recipe_data_list.append(r_id) # Append recipeId to list\n",
    "    recipe_data_list.append(id2r_map[r_id]) # Append recipeName to list\n",
    "    recipe_data_list.append(output_data[r_id]['time_req']) # Append prepTimeInMinutes to list\n",
    "    recipe_data_list.append(len(output_data[r_id]['i_avail'])) # Append numberOfFridgeItemUsed to list\n",
    "    recipe_data_list.append(len(output_data[r_id]['i_needed'])) # Append numberOfAdditionalItemsNeeded to list\n",
    "    return recipe_data_list"
   ]
  },
  {
   "cell_type": "code",
   "execution_count": null,
   "metadata": {},
   "outputs": [],
   "source": [
    "# 리뷰 2건 이상인 레시피만 필터링 (??)\n",
    "\n",
    "g = {'rating' : ['mean'],'user_id' : ['nunique']}\n",
    "int_summary = ratings.groupby(['recipe_id']).agg(g).reset_index()\n",
    "\n",
    "ind = pd.Index([e[0] + \"_\" +e[1] for e in int_summary.columns.tolist()])\n",
    "\n",
    "int_summary.columns = ind\n",
    "int_summary.columns = ['recipe_id', 'rating_mean', 'user_id_nunique']\n",
    "\n",
    "int_summary_2 = int_summary[ (int_summary['user_id_nunique'] > 2)]"
   ]
  },
  {
   "cell_type": "code",
   "execution_count": null,
   "metadata": {},
   "outputs": [],
   "source": [
    "filter_recipe = pd.merge(recipes,int_summary_2,right_on = ['recipe_id'],left_on = ['recipe_id'],how = 'inner')"
   ]
  },
  {
   "cell_type": "code",
   "execution_count": null,
   "metadata": {},
   "outputs": [],
   "source": [
    "filter_recipe.shape"
   ]
  },
  {
   "cell_type": "code",
   "execution_count": null,
   "metadata": {},
   "outputs": [],
   "source": [
    "filter_recipe.head()"
   ]
  },
  {
   "cell_type": "markdown",
   "metadata": {},
   "source": [
    "## steps별 코사인 유사도"
   ]
  },
  {
   "cell_type": "code",
   "execution_count": null,
   "metadata": {},
   "outputs": [],
   "source": [
    "with open(\"./similarities_sparse_recipe.pickle\", \"rb\") as MyFile:\n",
    "    similarity_recipe = pickle.load(MyFile)\n"
   ]
  },
  {
   "cell_type": "code",
   "execution_count": null,
   "metadata": {},
   "outputs": [],
   "source": [
    "similarity_recipe.head()"
   ]
  },
  {
   "cell_type": "markdown",
   "metadata": {},
   "source": [
    "## tags별 코사인 유사도"
   ]
  },
  {
   "cell_type": "code",
   "execution_count": null,
   "metadata": {},
   "outputs": [],
   "source": [
    "with open(\"./similarities_sparse_tag.pickle\", \"rb\") as MyFile:\n",
    "    similarity_tag = pickle.load(MyFile)"
   ]
  },
  {
   "cell_type": "code",
   "execution_count": null,
   "metadata": {},
   "outputs": [],
   "source": [
    "similarity_tag.head()"
   ]
  },
  {
   "cell_type": "markdown",
   "metadata": {},
   "source": [
    "## 평점별 코사인 유사도"
   ]
  },
  {
   "cell_type": "markdown",
   "metadata": {},
   "source": [
    "### 데이터 프레임 인덱싱"
   ]
  },
  {
   "cell_type": "code",
   "execution_count": null,
   "metadata": {},
   "outputs": [],
   "source": [
    "final_review=pd.merge(filter_recipe, ratings, on='recipe_id')[['user_id', 'recipe_id', 'rating']]"
   ]
  },
  {
   "cell_type": "code",
   "execution_count": null,
   "metadata": {},
   "outputs": [],
   "source": [
    "final_review.shape"
   ]
  },
  {
   "cell_type": "code",
   "execution_count": null,
   "metadata": {},
   "outputs": [],
   "source": [
    "# 리뷰가 17건 이상인 레시피 id\n",
    "index_recipe_17=final_review.groupby(['recipe_id']).count()[final_review.groupby(['recipe_id']).count()['user_id']>=17].index"
   ]
  },
  {
   "cell_type": "code",
   "execution_count": null,
   "metadata": {},
   "outputs": [],
   "source": [
    "final_review_17=final_review.set_index('recipe_id').loc[index_recipe_17,].reset_index()"
   ]
  },
  {
   "cell_type": "code",
   "execution_count": null,
   "metadata": {},
   "outputs": [],
   "source": [
    "final_review_17['rating']=final_review_17['rating'].astype('int32')\n",
    "final_review_17['recipe_id']=final_review_17['recipe_id'].astype('int32')"
   ]
  },
  {
   "cell_type": "code",
   "execution_count": null,
   "metadata": {},
   "outputs": [],
   "source": [
    "# review 5건 이상 한 user\n",
    "index_user_5=final_review_17.groupby('user_id').count()[final_review_17.groupby('user_id').count()['rating']>=5].index"
   ]
  },
  {
   "cell_type": "code",
   "execution_count": null,
   "metadata": {},
   "outputs": [],
   "source": [
    "final_rating=final_review_17.set_index('user_id').loc[index_user_5,].reset_index()"
   ]
  },
  {
   "cell_type": "code",
   "execution_count": null,
   "metadata": {},
   "outputs": [],
   "source": [
    "matrix_final_rating=final_rating.pivot_table('rating', index='user_id', columns='recipe_id')"
   ]
  },
  {
   "cell_type": "code",
   "execution_count": null,
   "metadata": {},
   "outputs": [],
   "source": [
    "# null값 채우기\n",
    "matrix_final_rating = matrix_final_rating.fillna(0)"
   ]
  },
  {
   "cell_type": "code",
   "execution_count": null,
   "metadata": {},
   "outputs": [],
   "source": [
    "matrix_final_rating.shape"
   ]
  },
  {
   "cell_type": "code",
   "execution_count": null,
   "metadata": {},
   "outputs": [],
   "source": [
    "# index 맞추기\n",
    "similarity_step=similarity_recipe.loc[similarity_recipe.index.intersection(final_rating.groupby('recipe_id').count().index),similarity_recipe.index.intersection(final_rating.groupby('recipe_id').count().index)]"
   ]
  },
  {
   "cell_type": "code",
   "execution_count": null,
   "metadata": {},
   "outputs": [],
   "source": [
    "# index 맞추기\n",
    "similarity_tag=similarity_tag.loc[similarity_tag.index.intersection(final_rating.groupby('recipe_id').count().index),similarity_tag.index.intersection(final_rating.groupby('recipe_id').count().index)]"
   ]
  },
  {
   "cell_type": "code",
   "execution_count": null,
   "metadata": {},
   "outputs": [],
   "source": [
    "# steps와 tags의 평균 코사인 유사도\n",
    "similarity_recipe=(similarity_step+similarity_tag)/2"
   ]
  },
  {
   "cell_type": "markdown",
   "metadata": {},
   "source": [
    "### 코사인 유사도 계산"
   ]
  },
  {
   "cell_type": "code",
   "execution_count": null,
   "metadata": {},
   "outputs": [],
   "source": [
    "# 코사인 유사도 구하기\n",
    "item_sim = cosine_similarity(matrix_final_rating.T, matrix_final_rating.T)"
   ]
  },
  {
   "cell_type": "code",
   "execution_count": null,
   "metadata": {},
   "outputs": [],
   "source": [
    "# cosine_similarity() 로 반환된 넘파이 행렬을 레시피명을 매핑하여 DataFrame으로 변환\n",
    "item_sim_df = pd.DataFrame(data=item_sim, index=matrix_final_rating.columns,\n",
    "                          columns=matrix_final_rating.columns)\n",
    "print(item_sim_df.shape)"
   ]
  },
  {
   "cell_type": "code",
   "execution_count": null,
   "metadata": {},
   "outputs": [],
   "source": [
    "def predict_rating(ratings_arr, item_sim_arr ):\n",
    "    ratings_pred = ratings_arr.dot(item_sim_arr)/ np.array([np.abs(item_sim_arr).sum(axis=1)])\n",
    "    return ratings_pred"
   ]
  },
  {
   "cell_type": "code",
   "execution_count": null,
   "metadata": {},
   "outputs": [],
   "source": [
    "ratings_pred = predict_rating(matrix_final_rating.values , item_sim_df.values)\n",
    "ratings_pred_matrix_i = pd.DataFrame(data=ratings_pred, index= matrix_final_rating.index,\n",
    "                                   columns = matrix_final_rating.columns)"
   ]
  },
  {
   "cell_type": "code",
   "execution_count": null,
   "metadata": {},
   "outputs": [],
   "source": [
    "ratings_pred_matrix_i"
   ]
  },
  {
   "cell_type": "markdown",
   "metadata": {},
   "source": [
    "## step과 tag와 평점별  추천시스템"
   ]
  },
  {
   "cell_type": "code",
   "execution_count": null,
   "metadata": {},
   "outputs": [],
   "source": [
    "from sklearn.metrics import mean_squared_error\n",
    "\n",
    " \n",
    "def get_mse(pred, actual):\n",
    "    # Ignore nonzero terms.\n",
    "    pred = pred[actual.nonzero()].flatten()\n",
    "    actual = actual[actual.nonzero()].flatten()\n",
    "    return mean_squared_error(pred, actual)\n"
   ]
  },
  {
   "cell_type": "code",
   "execution_count": null,
   "metadata": {},
   "outputs": [],
   "source": [
    "def predict_rating_topsim(ratings_arr, item_sim_arr, n=20):\n",
    "\n",
    "    pred = np.zeros(ratings_arr.shape)\n",
    "\n",
    "\n",
    "    for col in range(ratings_arr.shape[1]):\n",
    "\n",
    "        top_n_items = [np.argsort(item_sim_arr[:, col])[:-n-1:-1]]\n",
    "\n",
    "        for row in range(ratings_arr.shape[0]):\n",
    "            pred[row, col] = item_sim_arr[col, :][top_n_items].dot(ratings_arr[row, :][top_n_items].T) \n",
    "            pred[row, col] /= np.sum(np.abs(item_sim_arr[col, :][top_n_items]))        \n",
    "    return pred"
   ]
  },
  {
   "cell_type": "code",
   "execution_count": null,
   "metadata": {},
   "outputs": [],
   "source": [
    "def get_not_reviews(ratings_matrix, userId):\n",
    "\n",
    "    user_rating = ratings_matrix.loc[userId,:]\n",
    "\n",
    "    already_seen = user_rating[ user_rating > 0].index.tolist()\n",
    "    \n",
    "\n",
    "    movies_list = ratings_matrix.columns.tolist()\n",
    "    \n",
    "    unseen_list = [ movie for movie in movies_list if movie not in already_seen]\n",
    "    \n",
    "    return unseen_list"
   ]
  },
  {
   "cell_type": "code",
   "execution_count": null,
   "metadata": {},
   "outputs": [],
   "source": [
    "def get_reviews(ratings_matrix, userId):\n",
    "\n",
    "    user_rating = ratings_matrix.loc[userId,:]\n",
    "    \n",
    "    already_seen = user_rating[ user_rating <= 0].index.tolist()\n",
    "    \n",
    "    movies_list = ratings_matrix.columns.tolist()\n",
    "     \n",
    "    seen_list = [ movie for movie in movies_list if movie not in already_seen]\n",
    "    \n",
    "    return seen_list"
   ]
  },
  {
   "cell_type": "code",
   "execution_count": null,
   "metadata": {},
   "outputs": [],
   "source": [
    "def recipes_by_collaborative(pred_df, userId, unseen_list):\n",
    "    coll_recipes = pred_df.loc[userId, unseen_list]\n",
    "    coll_recipes=pd.DataFrame(coll_recipes)\n",
    "    coll_recipes.columns=['score']\n",
    "    return coll_recipes"
   ]
  },
  {
   "cell_type": "code",
   "execution_count": null,
   "metadata": {},
   "outputs": [],
   "source": [
    "def recipes_by_content_mean(similarity_matrix, seen_list, unseen_list):\n",
    "    cont_recipes=similarity_matrix.loc[seen_list,unseen_list]\n",
    "    cont_recipes=np.mean(cont_recipes)\n",
    "    cont_recipes=pd.DataFrame(cont_recipes)\n",
    "    cont_recipes.columns=['score']\n",
    "    return cont_recipes"
   ]
  },
  {
   "cell_type": "code",
   "execution_count": null,
   "metadata": {},
   "outputs": [],
   "source": [
    "def recipes_by_content_max(similarity_matrix, seen_list, unseen_list):\n",
    "    cont_recipes=similarity_matrix.loc[seen_list,unseen_list]\n",
    "    cont_recipes=np.max(cont_recipes)\n",
    "    cont_recipes=pd.DataFrame(cont_recipes)\n",
    "    cont_recipes.columns=['score']\n",
    "    return cont_recipes"
   ]
  },
  {
   "cell_type": "code",
   "execution_count": null,
   "metadata": {},
   "outputs": [],
   "source": [
    "def inverse_weighted_ensemble(a,b):\n",
    "    final_score=a*(1/a/(1/a+1/b))+b*(1/b/(1/a+1/b))\n",
    "    return final_score"
   ]
  },
  {
   "cell_type": "code",
   "execution_count": null,
   "metadata": {},
   "outputs": [],
   "source": [
    "def scaling_method(recipes_type):\n",
    "    scaler=MinMaxScaler()\n",
    "    scaled=scaler.fit_transform(np.array(recipes_type).reshape(-1, 1))\n",
    "    temp_df=recipes_type.copy()\n",
    "    temp_df['score']=scaled\n",
    "    return temp_df"
   ]
  },
  {
   "cell_type": "code",
   "execution_count": null,
   "metadata": {},
   "outputs": [],
   "source": [
    "def scaling_method_1_5(recipes_type):\n",
    "    scaler=MinMaxScaler(feature_range=(0, 1.4))\n",
    "    scaled=scaler.fit_transform(np.array(recipes_type).reshape(-1, 1))\n",
    "    temp_df=recipes_type.copy()\n",
    "    temp_df['score']=scaled\n",
    "    return temp_df"
   ]
  },
  {
   "cell_type": "code",
   "execution_count": null,
   "metadata": {},
   "outputs": [],
   "source": [
    "def recomm_recipes(final_score_dataframe, top_n):\n",
    "    return final_score_dataframe.sort_values(by='score', ascending=False)[:top_n]"
   ]
  },
  {
   "cell_type": "code",
   "execution_count": null,
   "metadata": {},
   "outputs": [],
   "source": [
    "def weighted_ensemble(a,b):\n",
    "    final_score=a*(a/(a+b))+b*(b/(a+b))\n",
    "    return final_score"
   ]
  },
  {
   "cell_type": "markdown",
   "metadata": {},
   "source": [
    "# 콘텐츠 기반 + 아이템 기반 협업필터링"
   ]
  },
  {
   "cell_type": "code",
   "execution_count": null,
   "metadata": {},
   "outputs": [],
   "source": [
    "# 아이템 기반 협업필터링 + 콘텐츠 기반\n",
    "\n",
    "# user_id\n",
    "user_id=4601\n",
    "\n",
    "# user가 review 안한 recipes\n",
    "unseen_list = get_not_reviews(matrix_final_rating, user_id)\n",
    "\n",
    "# user가 review한 recipes\n",
    "seen_list = get_reviews(matrix_final_rating, user_id)\n",
    "\n",
    "# 협업필터링 스코어\n",
    "item_recipes = recipes_by_collaborative(ratings_pred_matrix_i, user_id, unseen_list)\n",
    "\n",
    "# 협업필터링 스코어 스케일링\n",
    "scaled_item_recipes=scaling_method(item_recipes)\n",
    "\n",
    "# 콘텐츠 기반 스코어\n",
    "cont_recipes= recipes_by_content_mean(similarity_recipe, seen_list, unseen_list)\n",
    "\n",
    "# 콘텐츠 기반 스코어 스케일링\n",
    "scaled_cont_recipes=scaling_method(cont_recipes)\n",
    "\n",
    "# 최종 점수\n",
    "final_score_df=inverse_weighted_ensemble(scaled_item_recipes,cont_recipes)"
   ]
  },
  {
   "cell_type": "code",
   "execution_count": null,
   "metadata": {},
   "outputs": [],
   "source": [
    "recomm_recipes(final_score_df, 10)"
   ]
  },
  {
   "cell_type": "code",
   "execution_count": null,
   "metadata": {},
   "outputs": [],
   "source": [
    "plt.hist(item_recipes)"
   ]
  },
  {
   "cell_type": "code",
   "execution_count": null,
   "metadata": {},
   "outputs": [],
   "source": [
    "plt.hist(cont_recipes)"
   ]
  },
  {
   "cell_type": "markdown",
   "metadata": {},
   "source": [
    "# 콘텐츠 기반 + 잠재요인 협업필터링"
   ]
  },
  {
   "cell_type": "code",
   "execution_count": null,
   "metadata": {},
   "outputs": [],
   "source": [
    "from sklearn.metrics import mean_squared_error\n",
    "\n",
    "def get_rmse(R, P, Q, non_zeros):\n",
    "    error = 0\n",
    "    # 두개의 분해된 행렬 P와 Q.T의 내적 곱으로 예측 R 행렬 생성\n",
    "    full_pred_matrix = np.dot(P, Q.T)\n",
    "    \n",
    "    # 실제 R 행렬에서 널이 아닌 값의 위치 인덱스 추출하여 실제 R 행렬과 예측 행렬의 RMSE 추출\n",
    "    x_non_zero_ind = [non_zero[0] for non_zero in non_zeros]\n",
    "    y_non_zero_ind = [non_zero[1] for non_zero in non_zeros]\n",
    "    R_non_zeros = R[x_non_zero_ind, y_non_zero_ind]\n",
    "    \n",
    "    full_pred_matrix_non_zeros = full_pred_matrix[x_non_zero_ind, y_non_zero_ind]\n",
    "      \n",
    "    mse = mean_squared_error(R_non_zeros, full_pred_matrix_non_zeros)\n",
    "    rmse = np.sqrt(mse)\n",
    "    \n",
    "    return rmse"
   ]
  },
  {
   "cell_type": "code",
   "execution_count": null,
   "metadata": {},
   "outputs": [],
   "source": [
    "def matrix_factorization(R, K, steps=200, learning_rate=0.01, r_lambda = 0.01):\n",
    "    num_users, num_items = R.shape\n",
    "    # P와 Q 매트릭스의 크기를 지정하고 정규분포를 가진 랜덤한 값으로 입력합니다. \n",
    "    np.random.seed(1)\n",
    "    P = np.random.normal(scale=1./K, size=(num_users, K))\n",
    "    Q = np.random.normal(scale=1./K, size=(num_items, K))\n",
    "\n",
    "    break_count = 0\n",
    "       \n",
    "    # R > 0 인 행 위치, 열 위치, 값을 non_zeros 리스트 객체에 저장. \n",
    "    non_zeros = [ (i, j, R[i,j]) for i in range(num_users) for j in range(num_items) if R[i,j] > 0 ]\n",
    "   \n",
    "    # SGD기법으로 P와 Q 매트릭스를 계속 업데이트. \n",
    "    for step in range(steps):\n",
    "        for i, j, r in non_zeros:\n",
    "            # 실제 값과 예측 값의 차이인 오류 값 구함\n",
    "            eij = r - np.dot(P[i, :], Q[j, :].T)\n",
    "            # Regularization을 반영한 SGD 업데이트 공식 적용\n",
    "            P[i,:] = P[i,:] + learning_rate*(eij * Q[j, :] - r_lambda*P[i,:])\n",
    "            Q[j,:] = Q[j,:] + learning_rate*(eij * P[i, :] - r_lambda*Q[j,:])\n",
    "       \n",
    "        rmse = get_rmse(R, P, Q, non_zeros)\n",
    "        if (step % 10) == 0 :\n",
    "            print(\"### iteration step : \", step,\" rmse : \", rmse)\n",
    "            \n",
    "    return P, Q"
   ]
  },
  {
   "cell_type": "code",
   "execution_count": null,
   "metadata": {},
   "outputs": [],
   "source": [
    "# P, Q = matrix_factorization(matrix_final_rating.values, K=50, steps=200, learning_rate=0.01, r_lambda = 0.01)\n",
    "# pred_matrix = np.dot(P, Q.T)"
   ]
  },
  {
   "cell_type": "code",
   "execution_count": null,
   "metadata": {},
   "outputs": [],
   "source": [
    "with open(\"./pred_matrix_p.pickle\", \"rb\") as MyFile:\n",
    "    pred_matrix = pickle.load(MyFile)"
   ]
  },
  {
   "cell_type": "code",
   "execution_count": null,
   "metadata": {},
   "outputs": [],
   "source": [
    "ratings_pred_matrix_p = pd.DataFrame(data=pred_matrix, index= matrix_final_rating.index,\n",
    "                                   columns = matrix_final_rating.columns)"
   ]
  },
  {
   "cell_type": "code",
   "execution_count": null,
   "metadata": {},
   "outputs": [],
   "source": [
    "ratings_pred_matrix_p"
   ]
  },
  {
   "cell_type": "code",
   "execution_count": null,
   "metadata": {},
   "outputs": [],
   "source": [
    "# 잠재요인 협업필터링 + 콘텐츠 기반\n",
    "# 4500\n",
    "# 5523\n",
    "\n",
    "# user_id\n",
    "user_id=7093\n",
    "\n",
    "# user가 review 안한 recipes\n",
    "unseen_list = get_not_reviews(matrix_final_rating, user_id)\n",
    "\n",
    "# user가 review한 recipes\n",
    "seen_list = get_reviews(matrix_final_rating, user_id)\n",
    "\n",
    "# 잠재요인 스코어\n",
    "potential_recipes = recipes_by_collaborative(ratings_pred_matrix_p, user_id, unseen_list)\n",
    "\n",
    "# 잠재요인 스코어 스케일링\n",
    "scaled_potential_recipes=scaling_method(potential_recipes)\n",
    "\n",
    "# 콘텐츠 기반 스코어\n",
    "cont_recipes= recipes_by_content_mean(similarity_recipe, seen_list, unseen_list)\n",
    "\n",
    "# 콘텐츠 기반 스코어 스케일링\n",
    "scaled_cont_recipes=scaling_method_1_5(cont_recipes)\n",
    "\n",
    "# 최종 점수\n",
    "final_score_df=inverse_weighted_ensemble(scaled_potential_recipes,cont_recipes)"
   ]
  },
  {
   "cell_type": "code",
   "execution_count": null,
   "metadata": {},
   "outputs": [],
   "source": [
    "final_score_df"
   ]
  },
  {
   "cell_type": "code",
   "execution_count": null,
   "metadata": {},
   "outputs": [],
   "source": [
    "recomm_recipes(final_score_df, 10)"
   ]
  },
  {
   "cell_type": "code",
   "execution_count": null,
   "metadata": {},
   "outputs": [],
   "source": [
    "plt.hist(potential_recipes)"
   ]
  },
  {
   "cell_type": "code",
   "execution_count": null,
   "metadata": {},
   "outputs": [],
   "source": [
    "plt.hist(cont_recipes)"
   ]
  },
  {
   "cell_type": "markdown",
   "metadata": {},
   "source": [
    "# 최종 output"
   ]
  },
  {
   "cell_type": "code",
   "execution_count": null,
   "metadata": {},
   "outputs": [],
   "source": [
    "def filtering_recipes(ingredient_list):\n",
    "    ingredient_recipe_id=list(getRecipes(parseIngredientList(ingredient_list)).keys())\n",
    " \n",
    "    temp_df=pd.DataFrame(getRecipes(parseIngredientList(ingredient_list))).T\n",
    "    temp_df['time_req']=temp_df['time_req'].astype('int')\n",
    "    temp_df['num_needed'] = temp_df['i_needed'].apply(lambda x: len(x))\n",
    "    return temp_df"
   ]
  },
  {
   "cell_type": "code",
   "execution_count": null,
   "metadata": {},
   "outputs": [],
   "source": [
    "def filter_final_score(ingredient_list, final_score_dataframe):\n",
    "    filter_final_score_df=filtering_recipes(ingredient_list).loc[filtering_recipes(ingredient_list).index.intersection(final_score_dataframe.index),]\n",
    "    return filter_final_score_df"
   ]
  },
  {
   "cell_type": "code",
   "execution_count": null,
   "metadata": {},
   "outputs": [],
   "source": [
    "def filter_final_score_output(filter_final_score_dataframe, final_score_dataframe):\n",
    "    q3=np.percentile(filter_final_score_dataframe['num_needed'], 75)\n",
    "    filter_final_score_dataframe_index=filter_final_score_dataframe[(filter_final_score_dataframe.num_needed<=q3)&(filter_final_score_dataframe.time_req<=have_time)].index\n",
    "    result=final_score_dataframe.loc[filter_final_score_dataframe_index,]\n",
    "    return result"
   ]
  },
  {
   "cell_type": "markdown",
   "metadata": {},
   "source": [
    "### ver1. 데이터 프레임 형태로 출력"
   ]
  },
  {
   "cell_type": "markdown",
   "metadata": {},
   "source": [
    "- 함수명 끝에 sub가 들어간 것은 대체재로 검색가능한 코드"
   ]
  },
  {
   "cell_type": "code",
   "execution_count": null,
   "metadata": {},
   "outputs": [],
   "source": [
    "def final_output_sub():\n",
    "\n",
    "    #input\n",
    "    user_id = int(input(\"아이디를 입력해주세요.\"))\n",
    "    have_ingre = input(\"가지고 있는 재료를 입력해주세요.\").split(',')\n",
    "    have_time = int(input(\"제조 가능한 최대 시간을 입력해주세요.\"))\n",
    "\n",
    "    # user가 review 안한 recipes\n",
    "    unseen_list = get_not_reviews(matrix_final_rating, user_id)\n",
    "\n",
    "    # user가 review한 recipes\n",
    "    seen_list = get_reviews(matrix_final_rating, user_id)\n",
    "\n",
    "    # 잠재요인 스코어\n",
    "    potential_recipes = recipes_by_collaborative(ratings_pred_matrix_p, user_id, unseen_list)\n",
    "\n",
    "    # 잠재요인 스코어 스케일링\n",
    "    scaled_potential_recipes=scaling_method(potential_recipes)\n",
    "\n",
    "    # 콘텐츠 기반 스코어\n",
    "    cont_recipes= recipes_by_content_mean(similarity_recipe, seen_list, unseen_list)\n",
    "\n",
    "    # 콘텐츠 기반 스코어 스케일링\n",
    "    scaled_cont_recipes=scaling_method_1_5(cont_recipes)\n",
    "\n",
    "    # 최종 점수\n",
    "    final_score_df=weighted_ensemble(scaled_potential_recipes,scaled_cont_recipes)\n",
    "\n",
    "    #제조 시간, 재료 필터링\n",
    "    \n",
    "    filter_final_score_df=filter_final_score(have_ingre, final_score_df)\n",
    "    \n",
    "    q3=np.percentile(filter_final_score_df['num_needed'], 75)\n",
    "    filter_final_score_df_index=filter_final_score_df[(filter_final_score_df.num_needed<=q3)&(filter_final_score_df.time_req<=have_time)].index\n",
    "    result=final_score_df.loc[filter_final_score_df_index,]\n",
    "    result = result.sort_values(by='score', ascending=False)[:10]\n",
    "    \n",
    "    final = recipes.set_index('recipe_id').loc[result.index][['name', 'minutes','ingredients','description','tags','steps','calories']]\n",
    "    final['score'] = result['score']\n",
    "\n",
    "    return final"
   ]
  },
  {
   "cell_type": "code",
   "execution_count": null,
   "metadata": {},
   "outputs": [],
   "source": [
    "#test한 입력값\n",
    "#user_id = 1533\n",
    "#ingredients=winter squash,mexican seasoning,mixed spice,honey,butter,olive oil,salt\n",
    "#time= 30"
   ]
  },
  {
   "cell_type": "code",
   "execution_count": null,
   "metadata": {
    "scrolled": false
   },
   "outputs": [],
   "source": [
    "final_output_sub()  #18초 정도 소요됨"
   ]
  },
  {
   "cell_type": "code",
   "execution_count": null,
   "metadata": {},
   "outputs": [],
   "source": [
    "def final_output():\n",
    "\n",
    "    #input\n",
    "    user_id = int(input(\"아이디를 입력해주세요.\"))\n",
    "    have_ingre = input(\"가지고 있는 재료를 입력해주세요.\").split(',')\n",
    "    have_time = int(input(\"제조 가능한 최대 시간을 입력해주세요.\"))\n",
    "\n",
    "    # user가 review 안한 recipes\n",
    "    unseen_list = get_not_reviews(matrix_final_rating, user_id)\n",
    "\n",
    "    # user가 review한 recipes\n",
    "    seen_list = get_reviews(matrix_final_rating, user_id)\n",
    "\n",
    "    # 잠재요인 스코어 스케일링\n",
    "    scaled_potential_recipes=scaling_method(potential_recipes)\n",
    "\n",
    "    # 콘텐츠 기반 스코어\n",
    "    cont_recipes= recipes_by_content_mean(similarity_recipe, seen_list, unseen_list)\n",
    "\n",
    "    # 콘텐츠 기반 스코어 스케일링\n",
    "    scaled_cont_recipes=scaling_method_1_5(cont_recipes)\n",
    "\n",
    "    # 최종 점수\n",
    "    final_score_df=weighted_ensemble(scaled_potential_recipes,scaled_cont_recipes)\n",
    "\n",
    "    #제조 시간, 재료 필터링\n",
    "    output = pd.merge(final_score_df,recipes, on='recipe_id')\n",
    "    output = output[output.minutes <= have_time]\n",
    "  \n",
    "    output['com_ingre'] = output.apply(lambda x: len(list(set(have_ingre) & set(x['ingredients']))), axis=1)\n",
    "    q3 = np.percentile(output['com_ingre'], 75)\n",
    "    output = output[output.com_ingre<=q3]\n",
    "    output = output[['name', 'minutes','ingredients','description','tags','steps','calories','score']]\n",
    "    output= output.sort_values(by='score', ascending=False)[:10]\n",
    "\n",
    "    return output"
   ]
  },
  {
   "cell_type": "code",
   "execution_count": null,
   "metadata": {},
   "outputs": [],
   "source": [
    "final_output()"
   ]
  },
  {
   "cell_type": "markdown",
   "metadata": {},
   "source": [
    "### ver2. 목록 형태로 출력"
   ]
  },
  {
   "cell_type": "markdown",
   "metadata": {},
   "source": [
    "- 함수명 끝에 sub가 들어간 것은 대체재로 검색가능한 코드"
   ]
  },
  {
   "cell_type": "code",
   "execution_count": null,
   "metadata": {},
   "outputs": [],
   "source": [
    "def print_scroll(df, top_n=5):\n",
    "    df = df[:top_n]\n",
    "    num=1\n",
    "    for i in df.index:\n",
    "        print()\n",
    "        print(\"#\", num)\n",
    "        print(\"name:\", df['name'][i])\n",
    "        print(\"minutes:\", df['minutes'][i])\n",
    "        print(\"description:\", df['description'][i])\n",
    "        print()\n",
    "        print(\"ingredients:\", sep='')\n",
    "        df['ingredients'] = df['ingredients'].astype('str')\n",
    "        df['ingredients'] = df['ingredients'].str.strip('[]')\n",
    "        print(df['ingredients'][i])\n",
    "        print(\"steps:\")\n",
    "        for index, i in enumerate(df['steps'][i]):\n",
    "            print(index+1,')',i)\n",
    "        print()\n",
    "        num += 1"
   ]
  },
  {
   "cell_type": "code",
   "execution_count": null,
   "metadata": {},
   "outputs": [],
   "source": [
    "def final_output2_sub():\n",
    "\n",
    "    #input\n",
    "    user_id = int(input(\"아이디를 입력해주세요.\"))\n",
    "    have_ingre = input(\"가지고 있는 재료를 입력해주세요.\").split(',')\n",
    "    have_time = int(input(\"제조 가능한 최대 시간을 입력해주세요.\"))\n",
    "\n",
    "    # user가 review 안한 recipes\n",
    "    unseen_list = get_not_reviews(matrix_final_rating, user_id)\n",
    "\n",
    "    # user가 review한 recipes\n",
    "    seen_list = get_reviews(matrix_final_rating, user_id)\n",
    "\n",
    "    # 잠재요인 스코어\n",
    "    potential_recipes = recipes_by_collaborative(ratings_pred_matrix_p, user_id, unseen_list)\n",
    "\n",
    "    # 잠재요인 스코어 스케일링\n",
    "    scaled_potential_recipes=scaling_method(potential_recipes)\n",
    "\n",
    "    # 콘텐츠 기반 스코어\n",
    "    cont_recipes= recipes_by_content_mean(similarity_recipe, seen_list, unseen_list)\n",
    "\n",
    "    # 콘텐츠 기반 스코어 스케일링\n",
    "    scaled_cont_recipes=scaling_method_1_5(cont_recipes)\n",
    "\n",
    "    # 최종 점수\n",
    "    final_score_df=weighted_ensemble(scaled_potential_recipes,scaled_cont_recipes)\n",
    "\n",
    "    #제조 시간, 재료 필터링\n",
    "    \n",
    "    filter_final_score_df=filter_final_score(have_ingre, final_score_df)\n",
    "    \n",
    "    q3=np.percentile(filter_final_score_df['num_needed'], 75)\n",
    "    filter_final_score_df_index=filter_final_score_df[(filter_final_score_df.num_needed<=q3)&(filter_final_score_df.time_req<=have_time)].index\n",
    "    result=final_score_df.loc[filter_final_score_df_index,]\n",
    "    result = result.sort_values(by='score', ascending=False)[:10]\n",
    "    \n",
    "    final = recipes.set_index('recipe_id').loc[result.index][['name', 'minutes','ingredients','description','tags','steps','calories']]\n",
    "    final['score'] = result['score']\n",
    "\n",
    "    output = print_scroll(final)\n",
    "    \n",
    "    \n",
    "    return output"
   ]
  },
  {
   "cell_type": "code",
   "execution_count": null,
   "metadata": {},
   "outputs": [],
   "source": [
    "def final_output2():\n",
    "\n",
    "    #input\n",
    "    user_id = int(input(\"아이디를 입력해주세요.\"))\n",
    "    have_ingre = input(\"가지고 있는 재료를 입력해주세요.\").split(',')\n",
    "    have_time = int(input(\"제조 가능한 최대 시간을 입력해주세요.\"))\n",
    "\n",
    "    # user가 review 안한 recipes\n",
    "    unseen_list = get_not_reviews(matrix_final_rating, user_id)\n",
    "\n",
    "    # user가 review한 recipes\n",
    "    seen_list = get_reviews(matrix_final_rating, user_id)\n",
    "\n",
    "    # 잠재요인 스코어\n",
    "    potential_recipes = recipes_by_collaborative(ratings_pred_matrix_p, user_id, unseen_list)\n",
    "\n",
    "    # 잠재요인 스코어 스케일링\n",
    "    scaled_potential_recipes=scaling_method(potential_recipes)\n",
    "\n",
    "    # 콘텐츠 기반 스코어\n",
    "    cont_recipes= recipes_by_content_mean(similarity_recipe, seen_list, unseen_list)\n",
    "\n",
    "    # 콘텐츠 기반 스코어 스케일링\n",
    "    scaled_cont_recipes=scaling_method_1_5(cont_recipes)\n",
    "\n",
    "    # 최종 점수\n",
    "    final_score_df=weighted_ensemble(scaled_potential_recipes,scaled_cont_recipes)\n",
    "\n",
    "    #제조 시간, 재료 필터링\n",
    "    output = pd.merge(final_score_df,recipes, on='recipe_id')\n",
    "    output = output[output.minutes <= have_time]\n",
    "  \n",
    "    output['com_ingre'] = output.apply(lambda x: len(list(set(have_ingre) & set(x['ingredients']))), axis=1)\n",
    "    q3 = np.percentile(output['com_ingre'], 75)\n",
    "    output = output[output.com_ingre>=q3]\n",
    "    output = output[['name', 'minutes','ingredients','description','tags','steps','calories','score']]\n",
    "    output= output.sort_values(by='score', ascending=False)[:10]\n",
    "    \n",
    "    final = print_scroll(output)\n",
    "\n",
    "    return final"
   ]
  },
  {
   "cell_type": "code",
   "execution_count": null,
   "metadata": {
    "scrolled": true
   },
   "outputs": [],
   "source": [
    "final_output2_sub() #17초"
   ]
  },
  {
   "cell_type": "code",
   "execution_count": null,
   "metadata": {
    "scrolled": true
   },
   "outputs": [],
   "source": [
    "final_output2() #1초"
   ]
  },
  {
   "cell_type": "code",
   "execution_count": null,
   "metadata": {},
   "outputs": [],
   "source": []
  }
 ],
 "metadata": {
  "kernelspec": {
   "display_name": "Python 3",
   "language": "python",
   "name": "python3"
  },
  "language_info": {
   "codemirror_mode": {
    "name": "ipython",
    "version": 3
   },
   "file_extension": ".py",
   "mimetype": "text/x-python",
   "name": "python",
   "nbconvert_exporter": "python",
   "pygments_lexer": "ipython3",
   "version": "3.7.9"
  }
 },
 "nbformat": 4,
 "nbformat_minor": 4
}
